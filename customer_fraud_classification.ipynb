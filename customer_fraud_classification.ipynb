{
  "cells": [
    {
      "cell_type": "code",
      "execution_count": null,
      "id": "a03ff314-d53e-4c28-8a5d-dd1b92b1322b",
      "metadata": {
        "id": "a03ff314-d53e-4c28-8a5d-dd1b92b1322b"
      },
      "outputs": [],
      "source": [
        "import numpy as np\n",
        "import pandas as pd\n",
        "from  sklearn.model_selection import train_test_split\n",
        "from  sklearn.linear_model import LogisticRegression\n",
        "from  sklearn.metrics import accuracy_score\n",
        "from sklearn.preprocessing import LabelEncoder"
      ]
    },
    {
      "cell_type": "code",
      "execution_count": null,
      "id": "80006ae7-4788-4ffb-8b69-07e998752b35",
      "metadata": {
        "id": "80006ae7-4788-4ffb-8b69-07e998752b35"
      },
      "outputs": [],
      "source": [
        "#loading the dataset to pandas dataframe\n",
        "fraud_detection = pd.read_csv('Fraud.csv')"
      ]
    },
    {
      "cell_type": "code",
      "execution_count": null,
      "id": "a64f84f9-8963-4e3b-bc07-502a2fcbcb7b",
      "metadata": {
        "id": "a64f84f9-8963-4e3b-bc07-502a2fcbcb7b",
        "outputId": "16acdf29-8852-41d0-c576-28e9b1fb0c47"
      },
      "outputs": [
        {
          "data": {
            "text/html": [
              "<div>\n",
              "<style scoped>\n",
              "    .dataframe tbody tr th:only-of-type {\n",
              "        vertical-align: middle;\n",
              "    }\n",
              "\n",
              "    .dataframe tbody tr th {\n",
              "        vertical-align: top;\n",
              "    }\n",
              "\n",
              "    .dataframe thead th {\n",
              "        text-align: right;\n",
              "    }\n",
              "</style>\n",
              "<table border=\"1\" class=\"dataframe\">\n",
              "  <thead>\n",
              "    <tr style=\"text-align: right;\">\n",
              "      <th></th>\n",
              "      <th>step</th>\n",
              "      <th>type</th>\n",
              "      <th>amount</th>\n",
              "      <th>nameOrig</th>\n",
              "      <th>oldbalanceOrg</th>\n",
              "      <th>newbalanceOrig</th>\n",
              "      <th>nameDest</th>\n",
              "      <th>oldbalanceDest</th>\n",
              "      <th>newbalanceDest</th>\n",
              "      <th>isFraud</th>\n",
              "      <th>isFlaggedFraud</th>\n",
              "    </tr>\n",
              "  </thead>\n",
              "  <tbody>\n",
              "    <tr>\n",
              "      <th>0</th>\n",
              "      <td>1</td>\n",
              "      <td>PAYMENT</td>\n",
              "      <td>9839.64</td>\n",
              "      <td>C1231006815</td>\n",
              "      <td>170136.0</td>\n",
              "      <td>160296.36</td>\n",
              "      <td>M1979787155</td>\n",
              "      <td>0.0</td>\n",
              "      <td>0.0</td>\n",
              "      <td>0</td>\n",
              "      <td>0</td>\n",
              "    </tr>\n",
              "    <tr>\n",
              "      <th>1</th>\n",
              "      <td>1</td>\n",
              "      <td>PAYMENT</td>\n",
              "      <td>1864.28</td>\n",
              "      <td>C1666544295</td>\n",
              "      <td>21249.0</td>\n",
              "      <td>19384.72</td>\n",
              "      <td>M2044282225</td>\n",
              "      <td>0.0</td>\n",
              "      <td>0.0</td>\n",
              "      <td>0</td>\n",
              "      <td>0</td>\n",
              "    </tr>\n",
              "    <tr>\n",
              "      <th>2</th>\n",
              "      <td>1</td>\n",
              "      <td>TRANSFER</td>\n",
              "      <td>181.00</td>\n",
              "      <td>C1305486145</td>\n",
              "      <td>181.0</td>\n",
              "      <td>0.00</td>\n",
              "      <td>C553264065</td>\n",
              "      <td>0.0</td>\n",
              "      <td>0.0</td>\n",
              "      <td>1</td>\n",
              "      <td>0</td>\n",
              "    </tr>\n",
              "    <tr>\n",
              "      <th>3</th>\n",
              "      <td>1</td>\n",
              "      <td>CASH_OUT</td>\n",
              "      <td>181.00</td>\n",
              "      <td>C840083671</td>\n",
              "      <td>181.0</td>\n",
              "      <td>0.00</td>\n",
              "      <td>C38997010</td>\n",
              "      <td>21182.0</td>\n",
              "      <td>0.0</td>\n",
              "      <td>1</td>\n",
              "      <td>0</td>\n",
              "    </tr>\n",
              "    <tr>\n",
              "      <th>4</th>\n",
              "      <td>1</td>\n",
              "      <td>PAYMENT</td>\n",
              "      <td>11668.14</td>\n",
              "      <td>C2048537720</td>\n",
              "      <td>41554.0</td>\n",
              "      <td>29885.86</td>\n",
              "      <td>M1230701703</td>\n",
              "      <td>0.0</td>\n",
              "      <td>0.0</td>\n",
              "      <td>0</td>\n",
              "      <td>0</td>\n",
              "    </tr>\n",
              "  </tbody>\n",
              "</table>\n",
              "</div>"
            ],
            "text/plain": [
              "   step      type    amount     nameOrig  oldbalanceOrg  newbalanceOrig  \\\n",
              "0     1   PAYMENT   9839.64  C1231006815       170136.0       160296.36   \n",
              "1     1   PAYMENT   1864.28  C1666544295        21249.0        19384.72   \n",
              "2     1  TRANSFER    181.00  C1305486145          181.0            0.00   \n",
              "3     1  CASH_OUT    181.00   C840083671          181.0            0.00   \n",
              "4     1   PAYMENT  11668.14  C2048537720        41554.0        29885.86   \n",
              "\n",
              "      nameDest  oldbalanceDest  newbalanceDest  isFraud  isFlaggedFraud  \n",
              "0  M1979787155             0.0             0.0        0               0  \n",
              "1  M2044282225             0.0             0.0        0               0  \n",
              "2   C553264065             0.0             0.0        1               0  \n",
              "3    C38997010         21182.0             0.0        1               0  \n",
              "4  M1230701703             0.0             0.0        0               0  "
            ]
          },
          "execution_count": 7,
          "metadata": {},
          "output_type": "execute_result"
        }
      ],
      "source": [
        "fraud_detection.head()"
      ]
    },
    {
      "cell_type": "code",
      "execution_count": null,
      "id": "cc13c621-869f-4ede-84d5-172102307a78",
      "metadata": {
        "id": "cc13c621-869f-4ede-84d5-172102307a78",
        "outputId": "2686e303-9d0a-4f46-e589-22a86d161d20"
      },
      "outputs": [
        {
          "data": {
            "text/html": [
              "<div>\n",
              "<style scoped>\n",
              "    .dataframe tbody tr th:only-of-type {\n",
              "        vertical-align: middle;\n",
              "    }\n",
              "\n",
              "    .dataframe tbody tr th {\n",
              "        vertical-align: top;\n",
              "    }\n",
              "\n",
              "    .dataframe thead th {\n",
              "        text-align: right;\n",
              "    }\n",
              "</style>\n",
              "<table border=\"1\" class=\"dataframe\">\n",
              "  <thead>\n",
              "    <tr style=\"text-align: right;\">\n",
              "      <th></th>\n",
              "      <th>step</th>\n",
              "      <th>type</th>\n",
              "      <th>amount</th>\n",
              "      <th>nameOrig</th>\n",
              "      <th>oldbalanceOrg</th>\n",
              "      <th>newbalanceOrig</th>\n",
              "      <th>nameDest</th>\n",
              "      <th>oldbalanceDest</th>\n",
              "      <th>newbalanceDest</th>\n",
              "      <th>isFraud</th>\n",
              "      <th>isFlaggedFraud</th>\n",
              "    </tr>\n",
              "  </thead>\n",
              "  <tbody>\n",
              "    <tr>\n",
              "      <th>1048570</th>\n",
              "      <td>95</td>\n",
              "      <td>CASH_OUT</td>\n",
              "      <td>132557.35</td>\n",
              "      <td>C1179511630</td>\n",
              "      <td>479803.00</td>\n",
              "      <td>347245.65</td>\n",
              "      <td>C435674507</td>\n",
              "      <td>484329.37</td>\n",
              "      <td>616886.72</td>\n",
              "      <td>0</td>\n",
              "      <td>0</td>\n",
              "    </tr>\n",
              "    <tr>\n",
              "      <th>1048571</th>\n",
              "      <td>95</td>\n",
              "      <td>PAYMENT</td>\n",
              "      <td>9917.36</td>\n",
              "      <td>C1956161225</td>\n",
              "      <td>90545.00</td>\n",
              "      <td>80627.64</td>\n",
              "      <td>M668364942</td>\n",
              "      <td>0.00</td>\n",
              "      <td>0.00</td>\n",
              "      <td>0</td>\n",
              "      <td>0</td>\n",
              "    </tr>\n",
              "    <tr>\n",
              "      <th>1048572</th>\n",
              "      <td>95</td>\n",
              "      <td>PAYMENT</td>\n",
              "      <td>14140.05</td>\n",
              "      <td>C2037964975</td>\n",
              "      <td>20545.00</td>\n",
              "      <td>6404.95</td>\n",
              "      <td>M1355182933</td>\n",
              "      <td>0.00</td>\n",
              "      <td>0.00</td>\n",
              "      <td>0</td>\n",
              "      <td>0</td>\n",
              "    </tr>\n",
              "    <tr>\n",
              "      <th>1048573</th>\n",
              "      <td>95</td>\n",
              "      <td>PAYMENT</td>\n",
              "      <td>10020.05</td>\n",
              "      <td>C1633237354</td>\n",
              "      <td>90605.00</td>\n",
              "      <td>80584.95</td>\n",
              "      <td>M1964992463</td>\n",
              "      <td>0.00</td>\n",
              "      <td>0.00</td>\n",
              "      <td>0</td>\n",
              "      <td>0</td>\n",
              "    </tr>\n",
              "    <tr>\n",
              "      <th>1048574</th>\n",
              "      <td>95</td>\n",
              "      <td>PAYMENT</td>\n",
              "      <td>11450.03</td>\n",
              "      <td>C1264356443</td>\n",
              "      <td>80584.95</td>\n",
              "      <td>69134.92</td>\n",
              "      <td>M677577406</td>\n",
              "      <td>0.00</td>\n",
              "      <td>0.00</td>\n",
              "      <td>0</td>\n",
              "      <td>0</td>\n",
              "    </tr>\n",
              "  </tbody>\n",
              "</table>\n",
              "</div>"
            ],
            "text/plain": [
              "         step      type     amount     nameOrig  oldbalanceOrg  \\\n",
              "1048570    95  CASH_OUT  132557.35  C1179511630      479803.00   \n",
              "1048571    95   PAYMENT    9917.36  C1956161225       90545.00   \n",
              "1048572    95   PAYMENT   14140.05  C2037964975       20545.00   \n",
              "1048573    95   PAYMENT   10020.05  C1633237354       90605.00   \n",
              "1048574    95   PAYMENT   11450.03  C1264356443       80584.95   \n",
              "\n",
              "         newbalanceOrig     nameDest  oldbalanceDest  newbalanceDest  isFraud  \\\n",
              "1048570       347245.65   C435674507       484329.37       616886.72        0   \n",
              "1048571        80627.64   M668364942            0.00            0.00        0   \n",
              "1048572         6404.95  M1355182933            0.00            0.00        0   \n",
              "1048573        80584.95  M1964992463            0.00            0.00        0   \n",
              "1048574        69134.92   M677577406            0.00            0.00        0   \n",
              "\n",
              "         isFlaggedFraud  \n",
              "1048570               0  \n",
              "1048571               0  \n",
              "1048572               0  \n",
              "1048573               0  \n",
              "1048574               0  "
            ]
          },
          "execution_count": 8,
          "metadata": {},
          "output_type": "execute_result"
        }
      ],
      "source": [
        "fraud_detection.tail()"
      ]
    },
    {
      "cell_type": "code",
      "execution_count": null,
      "id": "a491fb88-f427-4ae8-9618-c69d4453cfa8",
      "metadata": {
        "id": "a491fb88-f427-4ae8-9618-c69d4453cfa8",
        "outputId": "33fb28f9-9875-45b1-8680-d62f21f08de6"
      },
      "outputs": [
        {
          "name": "stdout",
          "output_type": "stream",
          "text": [
            "<class 'pandas.core.frame.DataFrame'>\n",
            "RangeIndex: 1048575 entries, 0 to 1048574\n",
            "Data columns (total 11 columns):\n",
            " #   Column          Non-Null Count    Dtype  \n",
            "---  ------          --------------    -----  \n",
            " 0   step            1048575 non-null  int64  \n",
            " 1   type            1048575 non-null  object \n",
            " 2   amount          1048575 non-null  float64\n",
            " 3   nameOrig        1048575 non-null  object \n",
            " 4   oldbalanceOrg   1048575 non-null  float64\n",
            " 5   newbalanceOrig  1048575 non-null  float64\n",
            " 6   nameDest        1048575 non-null  object \n",
            " 7   oldbalanceDest  1048575 non-null  float64\n",
            " 8   newbalanceDest  1048575 non-null  float64\n",
            " 9   isFraud         1048575 non-null  int64  \n",
            " 10  isFlaggedFraud  1048575 non-null  int64  \n",
            "dtypes: float64(5), int64(3), object(3)\n",
            "memory usage: 88.0+ MB\n"
          ]
        }
      ],
      "source": [
        "fraud_detection.info()"
      ]
    },
    {
      "cell_type": "code",
      "execution_count": null,
      "id": "8c4b7121-f38e-4f00-a918-2dd0f87e78e5",
      "metadata": {
        "id": "8c4b7121-f38e-4f00-a918-2dd0f87e78e5",
        "outputId": "0ea568d9-4864-4626-bbf0-7d7d1d2b4894"
      },
      "outputs": [
        {
          "data": {
            "text/plain": [
              "(1048575, 11)"
            ]
          },
          "execution_count": 10,
          "metadata": {},
          "output_type": "execute_result"
        }
      ],
      "source": [
        "fraud_detection.shape"
      ]
    },
    {
      "cell_type": "code",
      "execution_count": null,
      "id": "142a98b9-fa14-48c6-a30b-470cae36a089",
      "metadata": {
        "id": "142a98b9-fa14-48c6-a30b-470cae36a089",
        "outputId": "7ef59151-1871-4ada-fa0b-b518977f2aaf"
      },
      "outputs": [
        {
          "data": {
            "text/plain": [
              "step              0\n",
              "type              0\n",
              "amount            0\n",
              "nameOrig          0\n",
              "oldbalanceOrg     0\n",
              "newbalanceOrig    0\n",
              "nameDest          0\n",
              "oldbalanceDest    0\n",
              "newbalanceDest    0\n",
              "isFraud           0\n",
              "isFlaggedFraud    0\n",
              "dtype: int64"
            ]
          },
          "execution_count": 11,
          "metadata": {},
          "output_type": "execute_result"
        }
      ],
      "source": [
        "fraud_detection.isnull().sum()"
      ]
    },
    {
      "cell_type": "code",
      "execution_count": null,
      "id": "10ba3c8c-1bc3-4900-ba2f-5ea8e85aa9a3",
      "metadata": {
        "id": "10ba3c8c-1bc3-4900-ba2f-5ea8e85aa9a3",
        "outputId": "818829a2-fb20-48cf-e8d4-8cb296e6c902"
      },
      "outputs": [
        {
          "data": {
            "text/plain": [
              "isFraud\n",
              "0    1047433\n",
              "1       1142\n",
              "Name: count, dtype: int64"
            ]
          },
          "execution_count": 12,
          "metadata": {},
          "output_type": "execute_result"
        }
      ],
      "source": [
        "#distribution of legit & fraud\n",
        "fraud_detection['isFraud'].value_counts()"
      ]
    },
    {
      "cell_type": "markdown",
      "id": "659a506b-c7ec-4bb6-9786-61905636ee27",
      "metadata": {
        "id": "659a506b-c7ec-4bb6-9786-61905636ee27"
      },
      "source": [
        "#0--> normal customer\n",
        "\n",
        "#1 --> fraud\n"
      ]
    },
    {
      "cell_type": "code",
      "execution_count": null,
      "id": "66f7b96b-5bc5-4dec-9fa3-4474af98715e",
      "metadata": {
        "id": "66f7b96b-5bc5-4dec-9fa3-4474af98715e"
      },
      "outputs": [],
      "source": [
        "# separating the data for analysis\n",
        "legit = fraud_detection[fraud_detection.isFraud == 0]# if its 0 then the data is of that row is legit\n",
        "fraud = fraud_detection[fraud_detection.isFraud == 1]#if its 1 then the data is of that row is fraud\n"
      ]
    },
    {
      "cell_type": "code",
      "execution_count": null,
      "id": "ec7b5977-f243-484f-8882-2de60c8bf795",
      "metadata": {
        "id": "ec7b5977-f243-484f-8882-2de60c8bf795",
        "outputId": "c5bf2971-67db-410d-9a7d-beff4e0b3a05"
      },
      "outputs": [
        {
          "name": "stdout",
          "output_type": "stream",
          "text": [
            "(1047433, 11)\n",
            "(1142, 11)\n"
          ]
        }
      ],
      "source": [
        "print(legit.shape)\n",
        "print(fraud.shape)"
      ]
    },
    {
      "cell_type": "markdown",
      "id": "a59a6e75-525b-452a-899e-264286799afb",
      "metadata": {
        "id": "a59a6e75-525b-452a-899e-264286799afb"
      },
      "source": [
        "here:\n",
        "\n",
        "110692 are the legit customer\n",
        "\n",
        "\n",
        "120 are the fraud customer"
      ]
    },
    {
      "cell_type": "code",
      "execution_count": null,
      "id": "092d7c45-158d-478e-9b43-8a23c065a104",
      "metadata": {
        "id": "092d7c45-158d-478e-9b43-8a23c065a104",
        "outputId": "7a3b44de-63af-4014-9900-44e50037f01d"
      },
      "outputs": [
        {
          "data": {
            "text/plain": [
              "count    1.047433e+06\n",
              "mean     1.575397e+05\n",
              "std      2.541883e+05\n",
              "min      1.000000e-01\n",
              "25%      1.213487e+04\n",
              "50%      7.621497e+04\n",
              "75%      2.134928e+05\n",
              "max      6.419835e+06\n",
              "Name: amount, dtype: float64"
            ]
          },
          "execution_count": 19,
          "metadata": {},
          "output_type": "execute_result"
        }
      ],
      "source": [
        "#stastistical measure of data\n",
        "legit.amount.describe()"
      ]
    },
    {
      "cell_type": "code",
      "execution_count": null,
      "id": "576b56ad-3efd-4f94-8046-0bbb0dc140d6",
      "metadata": {
        "id": "576b56ad-3efd-4f94-8046-0bbb0dc140d6",
        "outputId": "266a4b9e-4ed7-4903-a592-0e60ded0a0e8"
      },
      "outputs": [
        {
          "data": {
            "text/plain": [
              "count    1.142000e+03\n",
              "mean     1.192629e+06\n",
              "std      2.030599e+06\n",
              "min      1.190000e+02\n",
              "25%      8.607017e+04\n",
              "50%      3.531794e+05\n",
              "75%      1.248759e+06\n",
              "max      1.000000e+07\n",
              "Name: amount, dtype: float64"
            ]
          },
          "execution_count": 20,
          "metadata": {},
          "output_type": "execute_result"
        }
      ],
      "source": [
        "fraud.amount.describe()\n"
      ]
    },
    {
      "cell_type": "code",
      "execution_count": null,
      "id": "5e89abee-a446-464c-901a-857af5d1af99",
      "metadata": {
        "id": "5e89abee-a446-464c-901a-857af5d1af99",
        "outputId": "cd3d2506-1785-4989-e948-bc8bf5d27f9e"
      },
      "outputs": [
        {
          "data": {
            "text/html": [
              "<div>\n",
              "<style scoped>\n",
              "    .dataframe tbody tr th:only-of-type {\n",
              "        vertical-align: middle;\n",
              "    }\n",
              "\n",
              "    .dataframe tbody tr th {\n",
              "        vertical-align: top;\n",
              "    }\n",
              "\n",
              "    .dataframe thead th {\n",
              "        text-align: right;\n",
              "    }\n",
              "</style>\n",
              "<table border=\"1\" class=\"dataframe\">\n",
              "  <thead>\n",
              "    <tr style=\"text-align: right;\">\n",
              "      <th></th>\n",
              "      <th>step</th>\n",
              "      <th>amount</th>\n",
              "      <th>oldbalanceOrg</th>\n",
              "      <th>newbalanceOrig</th>\n",
              "      <th>oldbalanceDest</th>\n",
              "      <th>newbalanceDest</th>\n",
              "      <th>isFlaggedFraud</th>\n",
              "    </tr>\n",
              "    <tr>\n",
              "      <th>isFraud</th>\n",
              "      <th></th>\n",
              "      <th></th>\n",
              "      <th></th>\n",
              "      <th></th>\n",
              "      <th></th>\n",
              "      <th></th>\n",
              "      <th></th>\n",
              "    </tr>\n",
              "  </thead>\n",
              "  <tbody>\n",
              "    <tr>\n",
              "      <th>0</th>\n",
              "      <td>26.942944</td>\n",
              "      <td>1.575397e+05</td>\n",
              "      <td>8.736338e+05</td>\n",
              "      <td>894746.395080</td>\n",
              "      <td>978732.769117</td>\n",
              "      <td>1.114237e+06</td>\n",
              "      <td>0.0</td>\n",
              "    </tr>\n",
              "    <tr>\n",
              "      <th>1</th>\n",
              "      <td>48.272329</td>\n",
              "      <td>1.192629e+06</td>\n",
              "      <td>1.218636e+06</td>\n",
              "      <td>33944.321208</td>\n",
              "      <td>452866.124527</td>\n",
              "      <td>1.077940e+06</td>\n",
              "      <td>0.0</td>\n",
              "    </tr>\n",
              "  </tbody>\n",
              "</table>\n",
              "</div>"
            ],
            "text/plain": [
              "              step        amount  oldbalanceOrg  newbalanceOrig  \\\n",
              "isFraud                                                           \n",
              "0        26.942944  1.575397e+05   8.736338e+05   894746.395080   \n",
              "1        48.272329  1.192629e+06   1.218636e+06    33944.321208   \n",
              "\n",
              "         oldbalanceDest  newbalanceDest  isFlaggedFraud  \n",
              "isFraud                                                  \n",
              "0         978732.769117    1.114237e+06             0.0  \n",
              "1         452866.124527    1.077940e+06             0.0  "
            ]
          },
          "execution_count": 21,
          "metadata": {},
          "output_type": "execute_result"
        }
      ],
      "source": [
        "#compare the values for both transactions\n",
        "fraud_detection.groupby('isFraud').mean(numeric_only=True)# Set numeric_only to True to calculate the mean of numeric columns only"
      ]
    },
    {
      "cell_type": "markdown",
      "id": "367f917d-32ef-410a-b316-01d8d4f5522a",
      "metadata": {
        "id": "367f917d-32ef-410a-b316-01d8d4f5522a"
      },
      "source": [
        "under sampling\n",
        "\n",
        "building a sample dataset containing similar distribution  of normal and fraud customer\n"
      ]
    },
    {
      "cell_type": "code",
      "execution_count": null,
      "id": "7c1e0c6e-998b-45db-9a84-53cc1675b05d",
      "metadata": {
        "id": "7c1e0c6e-998b-45db-9a84-53cc1675b05d"
      },
      "outputs": [],
      "source": [
        "legit_sample = legit.sample(n=492)#creating a new dataset through sampling"
      ]
    },
    {
      "cell_type": "code",
      "execution_count": null,
      "id": "c3bd007b-8bb2-4f2c-bdd4-b9e368809e6d",
      "metadata": {
        "id": "c3bd007b-8bb2-4f2c-bdd4-b9e368809e6d",
        "outputId": "d81f68c0-fcb4-4a5e-e452-555d306c6713"
      },
      "outputs": [
        {
          "data": {
            "text/html": [
              "<div>\n",
              "<style scoped>\n",
              "    .dataframe tbody tr th:only-of-type {\n",
              "        vertical-align: middle;\n",
              "    }\n",
              "\n",
              "    .dataframe tbody tr th {\n",
              "        vertical-align: top;\n",
              "    }\n",
              "\n",
              "    .dataframe thead th {\n",
              "        text-align: right;\n",
              "    }\n",
              "</style>\n",
              "<table border=\"1\" class=\"dataframe\">\n",
              "  <thead>\n",
              "    <tr style=\"text-align: right;\">\n",
              "      <th></th>\n",
              "      <th>step</th>\n",
              "      <th>type</th>\n",
              "      <th>amount</th>\n",
              "      <th>nameOrig</th>\n",
              "      <th>oldbalanceOrg</th>\n",
              "      <th>newbalanceOrig</th>\n",
              "      <th>nameDest</th>\n",
              "      <th>oldbalanceDest</th>\n",
              "      <th>newbalanceDest</th>\n",
              "      <th>isFraud</th>\n",
              "      <th>isFlaggedFraud</th>\n",
              "    </tr>\n",
              "  </thead>\n",
              "  <tbody>\n",
              "    <tr>\n",
              "      <th>1047888</th>\n",
              "      <td>95</td>\n",
              "      <td>CASH_OUT</td>\n",
              "      <td>56745.14</td>\n",
              "      <td>C526144262</td>\n",
              "      <td>56745.14</td>\n",
              "      <td>0.0</td>\n",
              "      <td>C79051264</td>\n",
              "      <td>51433.88</td>\n",
              "      <td>108179.02</td>\n",
              "      <td>1</td>\n",
              "      <td>0</td>\n",
              "    </tr>\n",
              "    <tr>\n",
              "      <th>1048221</th>\n",
              "      <td>95</td>\n",
              "      <td>TRANSFER</td>\n",
              "      <td>33676.59</td>\n",
              "      <td>C732111322</td>\n",
              "      <td>33676.59</td>\n",
              "      <td>0.0</td>\n",
              "      <td>C1140210295</td>\n",
              "      <td>0.00</td>\n",
              "      <td>0.00</td>\n",
              "      <td>1</td>\n",
              "      <td>0</td>\n",
              "    </tr>\n",
              "    <tr>\n",
              "      <th>1048222</th>\n",
              "      <td>95</td>\n",
              "      <td>CASH_OUT</td>\n",
              "      <td>33676.59</td>\n",
              "      <td>C1000086512</td>\n",
              "      <td>33676.59</td>\n",
              "      <td>0.0</td>\n",
              "      <td>C1759363094</td>\n",
              "      <td>0.00</td>\n",
              "      <td>33676.59</td>\n",
              "      <td>1</td>\n",
              "      <td>0</td>\n",
              "    </tr>\n",
              "    <tr>\n",
              "      <th>1048323</th>\n",
              "      <td>95</td>\n",
              "      <td>TRANSFER</td>\n",
              "      <td>87999.25</td>\n",
              "      <td>C927181710</td>\n",
              "      <td>87999.25</td>\n",
              "      <td>0.0</td>\n",
              "      <td>C757947873</td>\n",
              "      <td>0.00</td>\n",
              "      <td>0.00</td>\n",
              "      <td>1</td>\n",
              "      <td>0</td>\n",
              "    </tr>\n",
              "    <tr>\n",
              "      <th>1048324</th>\n",
              "      <td>95</td>\n",
              "      <td>CASH_OUT</td>\n",
              "      <td>87999.25</td>\n",
              "      <td>C409531429</td>\n",
              "      <td>87999.25</td>\n",
              "      <td>0.0</td>\n",
              "      <td>C1827219533</td>\n",
              "      <td>0.00</td>\n",
              "      <td>87999.25</td>\n",
              "      <td>1</td>\n",
              "      <td>0</td>\n",
              "    </tr>\n",
              "  </tbody>\n",
              "</table>\n",
              "</div>"
            ],
            "text/plain": [
              "         step      type    amount     nameOrig  oldbalanceOrg  newbalanceOrig  \\\n",
              "1047888    95  CASH_OUT  56745.14   C526144262       56745.14             0.0   \n",
              "1048221    95  TRANSFER  33676.59   C732111322       33676.59             0.0   \n",
              "1048222    95  CASH_OUT  33676.59  C1000086512       33676.59             0.0   \n",
              "1048323    95  TRANSFER  87999.25   C927181710       87999.25             0.0   \n",
              "1048324    95  CASH_OUT  87999.25   C409531429       87999.25             0.0   \n",
              "\n",
              "            nameDest  oldbalanceDest  newbalanceDest  isFraud  isFlaggedFraud  \n",
              "1047888    C79051264        51433.88       108179.02        1               0  \n",
              "1048221  C1140210295            0.00            0.00        1               0  \n",
              "1048222  C1759363094            0.00        33676.59        1               0  \n",
              "1048323   C757947873            0.00            0.00        1               0  \n",
              "1048324  C1827219533            0.00        87999.25        1               0  "
            ]
          },
          "execution_count": 23,
          "metadata": {},
          "output_type": "execute_result"
        }
      ],
      "source": [
        "new_dataset = pd.concat([legit_sample,fraud],axis = 0)#conating two dataframe\n",
        "new_dataset.head()\n"
      ]
    },
    {
      "cell_type": "code",
      "execution_count": null,
      "id": "8e1475e8-0072-4a0d-ad31-0fb563ccd64e",
      "metadata": {
        "id": "8e1475e8-0072-4a0d-ad31-0fb563ccd64e",
        "outputId": "0d107f76-d0a8-4b1b-f511-9aa9fb790295"
      },
      "outputs": [
        {
          "data": {
            "text/html": [
              "<div>\n",
              "<style scoped>\n",
              "    .dataframe tbody tr th:only-of-type {\n",
              "        vertical-align: middle;\n",
              "    }\n",
              "\n",
              "    .dataframe tbody tr th {\n",
              "        vertical-align: top;\n",
              "    }\n",
              "\n",
              "    .dataframe thead th {\n",
              "        text-align: right;\n",
              "    }\n",
              "</style>\n",
              "<table border=\"1\" class=\"dataframe\">\n",
              "  <thead>\n",
              "    <tr style=\"text-align: right;\">\n",
              "      <th></th>\n",
              "      <th>step</th>\n",
              "      <th>type</th>\n",
              "      <th>amount</th>\n",
              "      <th>nameOrig</th>\n",
              "      <th>oldbalanceOrg</th>\n",
              "      <th>newbalanceOrig</th>\n",
              "      <th>nameDest</th>\n",
              "      <th>oldbalanceDest</th>\n",
              "      <th>newbalanceDest</th>\n",
              "      <th>isFraud</th>\n",
              "      <th>isFlaggedFraud</th>\n",
              "    </tr>\n",
              "  </thead>\n",
              "  <tbody>\n",
              "    <tr>\n",
              "      <th>1047888</th>\n",
              "      <td>95</td>\n",
              "      <td>CASH_OUT</td>\n",
              "      <td>56745.14</td>\n",
              "      <td>C526144262</td>\n",
              "      <td>56745.14</td>\n",
              "      <td>0.0</td>\n",
              "      <td>C79051264</td>\n",
              "      <td>51433.88</td>\n",
              "      <td>108179.02</td>\n",
              "      <td>1</td>\n",
              "      <td>0</td>\n",
              "    </tr>\n",
              "    <tr>\n",
              "      <th>1048221</th>\n",
              "      <td>95</td>\n",
              "      <td>TRANSFER</td>\n",
              "      <td>33676.59</td>\n",
              "      <td>C732111322</td>\n",
              "      <td>33676.59</td>\n",
              "      <td>0.0</td>\n",
              "      <td>C1140210295</td>\n",
              "      <td>0.00</td>\n",
              "      <td>0.00</td>\n",
              "      <td>1</td>\n",
              "      <td>0</td>\n",
              "    </tr>\n",
              "    <tr>\n",
              "      <th>1048222</th>\n",
              "      <td>95</td>\n",
              "      <td>CASH_OUT</td>\n",
              "      <td>33676.59</td>\n",
              "      <td>C1000086512</td>\n",
              "      <td>33676.59</td>\n",
              "      <td>0.0</td>\n",
              "      <td>C1759363094</td>\n",
              "      <td>0.00</td>\n",
              "      <td>33676.59</td>\n",
              "      <td>1</td>\n",
              "      <td>0</td>\n",
              "    </tr>\n",
              "    <tr>\n",
              "      <th>1048323</th>\n",
              "      <td>95</td>\n",
              "      <td>TRANSFER</td>\n",
              "      <td>87999.25</td>\n",
              "      <td>C927181710</td>\n",
              "      <td>87999.25</td>\n",
              "      <td>0.0</td>\n",
              "      <td>C757947873</td>\n",
              "      <td>0.00</td>\n",
              "      <td>0.00</td>\n",
              "      <td>1</td>\n",
              "      <td>0</td>\n",
              "    </tr>\n",
              "    <tr>\n",
              "      <th>1048324</th>\n",
              "      <td>95</td>\n",
              "      <td>CASH_OUT</td>\n",
              "      <td>87999.25</td>\n",
              "      <td>C409531429</td>\n",
              "      <td>87999.25</td>\n",
              "      <td>0.0</td>\n",
              "      <td>C1827219533</td>\n",
              "      <td>0.00</td>\n",
              "      <td>87999.25</td>\n",
              "      <td>1</td>\n",
              "      <td>0</td>\n",
              "    </tr>\n",
              "  </tbody>\n",
              "</table>\n",
              "</div>"
            ],
            "text/plain": [
              "         step      type    amount     nameOrig  oldbalanceOrg  newbalanceOrig  \\\n",
              "1047888    95  CASH_OUT  56745.14   C526144262       56745.14             0.0   \n",
              "1048221    95  TRANSFER  33676.59   C732111322       33676.59             0.0   \n",
              "1048222    95  CASH_OUT  33676.59  C1000086512       33676.59             0.0   \n",
              "1048323    95  TRANSFER  87999.25   C927181710       87999.25             0.0   \n",
              "1048324    95  CASH_OUT  87999.25   C409531429       87999.25             0.0   \n",
              "\n",
              "            nameDest  oldbalanceDest  newbalanceDest  isFraud  isFlaggedFraud  \n",
              "1047888    C79051264        51433.88       108179.02        1               0  \n",
              "1048221  C1140210295            0.00            0.00        1               0  \n",
              "1048222  C1759363094            0.00        33676.59        1               0  \n",
              "1048323   C757947873            0.00            0.00        1               0  \n",
              "1048324  C1827219533            0.00        87999.25        1               0  "
            ]
          },
          "execution_count": 24,
          "metadata": {},
          "output_type": "execute_result"
        }
      ],
      "source": [
        "new_dataset.tail()"
      ]
    },
    {
      "cell_type": "code",
      "execution_count": null,
      "id": "0c07e37a-3f12-44f9-a87b-2a90069ea428",
      "metadata": {
        "id": "0c07e37a-3f12-44f9-a87b-2a90069ea428",
        "outputId": "a0240947-d922-4bcf-fb8b-0c22c8041d70"
      },
      "outputs": [
        {
          "data": {
            "text/plain": [
              "isFraud\n",
              "1    1142\n",
              "0     492\n",
              "Name: count, dtype: int64"
            ]
          },
          "execution_count": 25,
          "metadata": {},
          "output_type": "execute_result"
        }
      ],
      "source": [
        "new_dataset['isFraud'].value_counts()"
      ]
    },
    {
      "cell_type": "code",
      "execution_count": null,
      "id": "79f42c11-b826-46aa-a687-6f54169b2657",
      "metadata": {
        "id": "79f42c11-b826-46aa-a687-6f54169b2657",
        "outputId": "1a5cffec-1ece-466b-ee64-72205e79aed5"
      },
      "outputs": [
        {
          "data": {
            "text/html": [
              "<div>\n",
              "<style scoped>\n",
              "    .dataframe tbody tr th:only-of-type {\n",
              "        vertical-align: middle;\n",
              "    }\n",
              "\n",
              "    .dataframe tbody tr th {\n",
              "        vertical-align: top;\n",
              "    }\n",
              "\n",
              "    .dataframe thead th {\n",
              "        text-align: right;\n",
              "    }\n",
              "</style>\n",
              "<table border=\"1\" class=\"dataframe\">\n",
              "  <thead>\n",
              "    <tr style=\"text-align: right;\">\n",
              "      <th></th>\n",
              "      <th>step</th>\n",
              "      <th>amount</th>\n",
              "      <th>oldbalanceOrg</th>\n",
              "      <th>newbalanceOrig</th>\n",
              "      <th>oldbalanceDest</th>\n",
              "      <th>newbalanceDest</th>\n",
              "      <th>isFlaggedFraud</th>\n",
              "    </tr>\n",
              "    <tr>\n",
              "      <th>isFraud</th>\n",
              "      <th></th>\n",
              "      <th></th>\n",
              "      <th></th>\n",
              "      <th></th>\n",
              "      <th></th>\n",
              "      <th></th>\n",
              "      <th></th>\n",
              "    </tr>\n",
              "  </thead>\n",
              "  <tbody>\n",
              "    <tr>\n",
              "      <th>0</th>\n",
              "      <td>25.623984</td>\n",
              "      <td>1.583523e+05</td>\n",
              "      <td>7.562826e+05</td>\n",
              "      <td>766842.567622</td>\n",
              "      <td>837529.236402</td>\n",
              "      <td>9.965994e+05</td>\n",
              "      <td>0.0</td>\n",
              "    </tr>\n",
              "    <tr>\n",
              "      <th>1</th>\n",
              "      <td>48.272329</td>\n",
              "      <td>1.192629e+06</td>\n",
              "      <td>1.218636e+06</td>\n",
              "      <td>33944.321208</td>\n",
              "      <td>452866.124527</td>\n",
              "      <td>1.077940e+06</td>\n",
              "      <td>0.0</td>\n",
              "    </tr>\n",
              "  </tbody>\n",
              "</table>\n",
              "</div>"
            ],
            "text/plain": [
              "              step        amount  oldbalanceOrg  newbalanceOrig  \\\n",
              "isFraud                                                           \n",
              "0        25.623984  1.583523e+05   7.562826e+05   766842.567622   \n",
              "1        48.272329  1.192629e+06   1.218636e+06    33944.321208   \n",
              "\n",
              "         oldbalanceDest  newbalanceDest  isFlaggedFraud  \n",
              "isFraud                                                  \n",
              "0         837529.236402    9.965994e+05             0.0  \n",
              "1         452866.124527    1.077940e+06             0.0  "
            ]
          },
          "execution_count": 26,
          "metadata": {},
          "output_type": "execute_result"
        }
      ],
      "source": [
        "new_dataset.groupby('isFraud').mean(numeric_only=True)\n"
      ]
    },
    {
      "cell_type": "code",
      "execution_count": null,
      "id": "79d75594-4a1f-4b2b-b74e-7d70a1565b97",
      "metadata": {
        "id": "79d75594-4a1f-4b2b-b74e-7d70a1565b97"
      },
      "outputs": [],
      "source": [
        "#splitting data into features & Targets\n",
        "x = new_dataset.drop(columns='isFraud',axis=1)\n",
        "y = new_dataset['isFraud']"
      ]
    },
    {
      "cell_type": "code",
      "execution_count": null,
      "id": "3d2831bd-02a3-4a8e-ad40-4a9797b50dce",
      "metadata": {
        "id": "3d2831bd-02a3-4a8e-ad40-4a9797b50dce",
        "outputId": "367c1bb5-fd6d-4d8b-bc9a-757f3ea2b5bd"
      },
      "outputs": [
        {
          "name": "stdout",
          "output_type": "stream",
          "text": [
            "         step      type     amount     nameOrig  oldbalanceOrg  \\\n",
            "317730     16   PAYMENT    8198.19   C282535541       52051.00   \n",
            "913792     43  CASH_OUT  135845.40    C21260499       83516.00   \n",
            "114244     11   PAYMENT   23465.44   C653533630           0.00   \n",
            "570790     23   PAYMENT    2751.33   C198488410           0.00   \n",
            "650050     35  CASH_OUT  183581.64   C671976989           0.00   \n",
            "...       ...       ...        ...          ...            ...   \n",
            "1047888    95  CASH_OUT   56745.14   C526144262       56745.14   \n",
            "1048221    95  TRANSFER   33676.59   C732111322       33676.59   \n",
            "1048222    95  CASH_OUT   33676.59  C1000086512       33676.59   \n",
            "1048323    95  TRANSFER   87999.25   C927181710       87999.25   \n",
            "1048324    95  CASH_OUT   87999.25   C409531429       87999.25   \n",
            "\n",
            "         newbalanceOrig     nameDest  oldbalanceDest  newbalanceDest  \\\n",
            "317730         43852.81    M28686927            0.00            0.00   \n",
            "913792             0.00   C262355562      4416045.17      4551890.57   \n",
            "114244             0.00  M2009004109            0.00            0.00   \n",
            "570790             0.00   M641122256            0.00            0.00   \n",
            "650050             0.00   C695189508      1314781.20      1498362.85   \n",
            "...                 ...          ...             ...             ...   \n",
            "1047888            0.00    C79051264        51433.88       108179.02   \n",
            "1048221            0.00  C1140210295            0.00            0.00   \n",
            "1048222            0.00  C1759363094            0.00        33676.59   \n",
            "1048323            0.00   C757947873            0.00            0.00   \n",
            "1048324            0.00  C1827219533            0.00        87999.25   \n",
            "\n",
            "         isFlaggedFraud  \n",
            "317730                0  \n",
            "913792                0  \n",
            "114244                0  \n",
            "570790                0  \n",
            "650050                0  \n",
            "...                 ...  \n",
            "1047888               0  \n",
            "1048221               0  \n",
            "1048222               0  \n",
            "1048323               0  \n",
            "1048324               0  \n",
            "\n",
            "[1634 rows x 10 columns]\n"
          ]
        }
      ],
      "source": [
        "print(x)"
      ]
    },
    {
      "cell_type": "code",
      "execution_count": null,
      "id": "045d53e7-15f6-4bac-a83a-304a106505c6",
      "metadata": {
        "id": "045d53e7-15f6-4bac-a83a-304a106505c6",
        "outputId": "39e7f3ed-8e1e-4299-d104-5358841b8a54"
      },
      "outputs": [
        {
          "name": "stdout",
          "output_type": "stream",
          "text": [
            "317730     0\n",
            "913792     0\n",
            "114244     0\n",
            "570790     0\n",
            "650050     0\n",
            "          ..\n",
            "1047888    1\n",
            "1048221    1\n",
            "1048222    1\n",
            "1048323    1\n",
            "1048324    1\n",
            "Name: isFraud, Length: 1634, dtype: int64\n"
          ]
        }
      ],
      "source": [
        "print(y)"
      ]
    },
    {
      "cell_type": "code",
      "execution_count": null,
      "id": "46d3dc3e-bb7f-4cca-8962-bbc43cbee02e",
      "metadata": {
        "id": "46d3dc3e-bb7f-4cca-8962-bbc43cbee02e"
      },
      "outputs": [],
      "source": [
        "#spliting the data  into training & testing data\n",
        "x_train,x_test,y_train,y_test = train_test_split(x,y,test_size=0.2,stratify=y,random_state=2)"
      ]
    },
    {
      "cell_type": "code",
      "execution_count": null,
      "id": "6277923e-a97c-44d1-ad30-7620296b84ee",
      "metadata": {
        "id": "6277923e-a97c-44d1-ad30-7620296b84ee",
        "outputId": "ed57c2cb-d2eb-4c1f-f00f-249ba7573612"
      },
      "outputs": [
        {
          "name": "stdout",
          "output_type": "stream",
          "text": [
            "(1634, 10) (1307, 10) (327, 10)\n"
          ]
        }
      ],
      "source": [
        "print(x.shape,x_train.shape,x_test.shape)"
      ]
    },
    {
      "cell_type": "code",
      "execution_count": null,
      "id": "c03e687c-bc91-4f94-b816-29461ca7d32f",
      "metadata": {
        "id": "c03e687c-bc91-4f94-b816-29461ca7d32f"
      },
      "outputs": [],
      "source": [
        "#model traininh\n",
        "#using logistic regression\n",
        "model = LogisticRegression()\n"
      ]
    },
    {
      "cell_type": "code",
      "execution_count": null,
      "id": "313e7e8e-74b7-46d3-962a-90d3601e8213",
      "metadata": {
        "id": "313e7e8e-74b7-46d3-962a-90d3601e8213"
      },
      "outputs": [],
      "source": [
        "for column in x_train.columns:\n",
        "    if x_train[column].dtype == 'object':  # Check if the column has string values\n",
        "        label_encoder = LabelEncoder()\n",
        "        x_train[column] = label_encoder.fit_transform(x_train[column])"
      ]
    },
    {
      "cell_type": "code",
      "execution_count": null,
      "id": "1c389d23-c092-4d48-9520-b9da20666e2c",
      "metadata": {
        "id": "1c389d23-c092-4d48-9520-b9da20666e2c",
        "outputId": "1dd38d61-5271-4151-c5df-2c55f97fd7dc"
      },
      "outputs": [
        {
          "data": {
            "text/html": [
              "<style>#sk-container-id-1 {color: black;background-color: white;}#sk-container-id-1 pre{padding: 0;}#sk-container-id-1 div.sk-toggleable {background-color: white;}#sk-container-id-1 label.sk-toggleable__label {cursor: pointer;display: block;width: 100%;margin-bottom: 0;padding: 0.3em;box-sizing: border-box;text-align: center;}#sk-container-id-1 label.sk-toggleable__label-arrow:before {content: \"▸\";float: left;margin-right: 0.25em;color: #696969;}#sk-container-id-1 label.sk-toggleable__label-arrow:hover:before {color: black;}#sk-container-id-1 div.sk-estimator:hover label.sk-toggleable__label-arrow:before {color: black;}#sk-container-id-1 div.sk-toggleable__content {max-height: 0;max-width: 0;overflow: hidden;text-align: left;background-color: #f0f8ff;}#sk-container-id-1 div.sk-toggleable__content pre {margin: 0.2em;color: black;border-radius: 0.25em;background-color: #f0f8ff;}#sk-container-id-1 input.sk-toggleable__control:checked~div.sk-toggleable__content {max-height: 200px;max-width: 100%;overflow: auto;}#sk-container-id-1 input.sk-toggleable__control:checked~label.sk-toggleable__label-arrow:before {content: \"▾\";}#sk-container-id-1 div.sk-estimator input.sk-toggleable__control:checked~label.sk-toggleable__label {background-color: #d4ebff;}#sk-container-id-1 div.sk-label input.sk-toggleable__control:checked~label.sk-toggleable__label {background-color: #d4ebff;}#sk-container-id-1 input.sk-hidden--visually {border: 0;clip: rect(1px 1px 1px 1px);clip: rect(1px, 1px, 1px, 1px);height: 1px;margin: -1px;overflow: hidden;padding: 0;position: absolute;width: 1px;}#sk-container-id-1 div.sk-estimator {font-family: monospace;background-color: #f0f8ff;border: 1px dotted black;border-radius: 0.25em;box-sizing: border-box;margin-bottom: 0.5em;}#sk-container-id-1 div.sk-estimator:hover {background-color: #d4ebff;}#sk-container-id-1 div.sk-parallel-item::after {content: \"\";width: 100%;border-bottom: 1px solid gray;flex-grow: 1;}#sk-container-id-1 div.sk-label:hover label.sk-toggleable__label {background-color: #d4ebff;}#sk-container-id-1 div.sk-serial::before {content: \"\";position: absolute;border-left: 1px solid gray;box-sizing: border-box;top: 0;bottom: 0;left: 50%;z-index: 0;}#sk-container-id-1 div.sk-serial {display: flex;flex-direction: column;align-items: center;background-color: white;padding-right: 0.2em;padding-left: 0.2em;position: relative;}#sk-container-id-1 div.sk-item {position: relative;z-index: 1;}#sk-container-id-1 div.sk-parallel {display: flex;align-items: stretch;justify-content: center;background-color: white;position: relative;}#sk-container-id-1 div.sk-item::before, #sk-container-id-1 div.sk-parallel-item::before {content: \"\";position: absolute;border-left: 1px solid gray;box-sizing: border-box;top: 0;bottom: 0;left: 50%;z-index: -1;}#sk-container-id-1 div.sk-parallel-item {display: flex;flex-direction: column;z-index: 1;position: relative;background-color: white;}#sk-container-id-1 div.sk-parallel-item:first-child::after {align-self: flex-end;width: 50%;}#sk-container-id-1 div.sk-parallel-item:last-child::after {align-self: flex-start;width: 50%;}#sk-container-id-1 div.sk-parallel-item:only-child::after {width: 0;}#sk-container-id-1 div.sk-dashed-wrapped {border: 1px dashed gray;margin: 0 0.4em 0.5em 0.4em;box-sizing: border-box;padding-bottom: 0.4em;background-color: white;}#sk-container-id-1 div.sk-label label {font-family: monospace;font-weight: bold;display: inline-block;line-height: 1.2em;}#sk-container-id-1 div.sk-label-container {text-align: center;}#sk-container-id-1 div.sk-container {/* jupyter's `normalize.less` sets `[hidden] { display: none; }` but bootstrap.min.css set `[hidden] { display: none !important; }` so we also need the `!important` here to be able to override the default hidden behavior on the sphinx rendered scikit-learn.org. See: https://github.com/scikit-learn/scikit-learn/issues/21755 */display: inline-block !important;position: relative;}#sk-container-id-1 div.sk-text-repr-fallback {display: none;}</style><div id=\"sk-container-id-1\" class=\"sk-top-container\"><div class=\"sk-text-repr-fallback\"><pre>LogisticRegression()</pre><b>In a Jupyter environment, please rerun this cell to show the HTML representation or trust the notebook. <br />On GitHub, the HTML representation is unable to render, please try loading this page with nbviewer.org.</b></div><div class=\"sk-container\" hidden><div class=\"sk-item\"><div class=\"sk-estimator sk-toggleable\"><input class=\"sk-toggleable__control sk-hidden--visually\" id=\"sk-estimator-id-1\" type=\"checkbox\" checked><label for=\"sk-estimator-id-1\" class=\"sk-toggleable__label sk-toggleable__label-arrow\">LogisticRegression</label><div class=\"sk-toggleable__content\"><pre>LogisticRegression()</pre></div></div></div></div></div>"
            ],
            "text/plain": [
              "LogisticRegression()"
            ]
          },
          "execution_count": 35,
          "metadata": {},
          "output_type": "execute_result"
        }
      ],
      "source": [
        "model.fit(x_train,y_train)"
      ]
    },
    {
      "cell_type": "code",
      "execution_count": null,
      "id": "d3f7495a-a2b5-437b-bcbb-ea76fee1865a",
      "metadata": {
        "id": "d3f7495a-a2b5-437b-bcbb-ea76fee1865a"
      },
      "outputs": [],
      "source": [
        "#model evalution\n",
        "#cheching accuracy score\n",
        "x_train_prediction = model.predict(x_train)\n",
        "training_data_accuracy = accuracy_score(x_train_prediction,y_train)"
      ]
    },
    {
      "cell_type": "code",
      "execution_count": null,
      "id": "e4501981-281d-4eb7-b767-4d9dbf91922a",
      "metadata": {
        "id": "e4501981-281d-4eb7-b767-4d9dbf91922a",
        "outputId": "b1f57416-46bf-4d49-a53e-0466b687ae5c"
      },
      "outputs": [
        {
          "name": "stdout",
          "output_type": "stream",
          "text": [
            "accuracy on training data: 0.9173680183626626\n"
          ]
        }
      ],
      "source": [
        "print('accuracy on training data:',training_data_accuracy)"
      ]
    },
    {
      "cell_type": "code",
      "execution_count": null,
      "id": "372bec14-b1b4-4091-a953-0365364fd9bf",
      "metadata": {
        "id": "372bec14-b1b4-4091-a953-0365364fd9bf"
      },
      "outputs": [],
      "source": []
    }
  ],
  "metadata": {
    "kernelspec": {
      "display_name": "Python 3 (ipykernel)",
      "language": "python",
      "name": "python3"
    },
    "language_info": {
      "codemirror_mode": {
        "name": "ipython",
        "version": 3
      },
      "file_extension": ".py",
      "mimetype": "text/x-python",
      "name": "python",
      "nbconvert_exporter": "python",
      "pygments_lexer": "ipython3",
      "version": "3.11.7"
    },
    "colab": {
      "provenance": []
    }
  },
  "nbformat": 4,
  "nbformat_minor": 5
}